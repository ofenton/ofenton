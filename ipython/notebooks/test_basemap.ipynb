{
 "cells": [
  {
   "cell_type": "code",
   "execution_count": null,
   "metadata": {
    "collapsed": true
   },
   "outputs": [],
   "source": [
    "from lxml import etree\n",
    "import requests\n",
    "import pandas as pd\n",
    "import numpy as np\n",
    "import matplotlib\n",
    "import matplotlib.pyplot as plt\n",
    "import matplotlib.cm as cm\n",
    "from matplotlib.colors import Normalize\n",
    "from matplotlib.colors import LinearSegmentedColormap\n",
    "from matplotlib.collections import PatchCollection\n",
    "import matplotlib.font_manager as fm\n",
    "from mpl_toolkits.basemap import Basemap\n",
    "from shapely.geometry import Point, Polygon, MultiPoint, MultiPolygon, shape\n",
    "from shapely.prepared import prep\n",
    "from pysal.esda.mapclassify import Natural_Breaks as nb\n",
    "from descartes import PolygonPatch\n",
    "import mpl_toolkits.basemap.pyproj as pyproj\n",
    "import fiona\n",
    "from itertools import chain"
   ]
  },
  {
   "cell_type": "code",
   "execution_count": null,
   "metadata": {
    "collapsed": false
   },
   "outputs": [],
   "source": [
    "# ensure we have Helvetica available\n",
    "#fm.findSystemFonts(fontpaths='/users/sth/fonts', fontext='ttf')\n",
    "fm.findSystemFonts(fontpaths='/System/Library/Fonts/', fontext='ttf')\n",
    "#prop = fm.FontProperties(fname='/users/sth/fonts/helvetica.ttf')\n",
    "prop = fm.FontProperties(fname='/System/Library/Fonts/Menlo.ttc')"
   ]
  },
  {
   "cell_type": "code",
   "execution_count": null,
   "metadata": {
    "collapsed": false
   },
   "outputs": [],
   "source": [
    "# docs say use top-left and bottom right - this is ury, llx, urx, lly\n",
    "# r = requests.get(\n",
    "#     \"http://openplaques.org/plaques.json?box=[%s, %s],[%s, %s]&limit=2500\" % (\n",
    "#         ur[1], ll[0], ur[0], ll[1]))"
   ]
  },
  {
   "cell_type": "code",
   "execution_count": null,
   "metadata": {
    "collapsed": false
   },
   "outputs": [],
   "source": [
    "# parse XML into dict\n",
    "tree = etree.parse(\"data/london_20131229.xml\")\n",
    "root = tree.getroot()\n",
    "\n",
    "output = dict()\n",
    "output['raw'] = []\n",
    "output['crs'] = []\n",
    "output['lon'] = []\n",
    "output['lat'] = []\n",
    "\n",
    "for each in root.xpath('/openplaques/plaque/geo'):\n",
    "    # check what we got back\n",
    "    output['crs'].append(each.get('reference_system', None))\n",
    "    output['lon'].append(each.get('longitude', None))\n",
    "    output['lat'].append(each.get('latitude', None))\n",
    "    # now go back up to plaque\n",
    "    r = each.getparent().xpath('inscription/raw')[0]\n",
    "    if isinstance(r.text, str):\n",
    "        output['raw'].append(r.text.lstrip().rstrip())\n",
    "    else:\n",
    "        output['raw'].append(None)"
   ]
  },
  {
   "cell_type": "code",
   "execution_count": null,
   "metadata": {
    "collapsed": false
   },
   "outputs": [],
   "source": [
    "df = pd.DataFrame(output)\n",
    "df = df.replace({'raw': 0}, None)\n",
    "df = df.dropna()\n",
    "df[['lon', 'lat']] = df[['lon', 'lat']].astype(float)"
   ]
  },
  {
   "cell_type": "code",
   "execution_count": null,
   "metadata": {
    "collapsed": false
   },
   "outputs": [],
   "source": [
    "shp = fiona.open('data/london_wards.shp')\n",
    "crs_data = shp.crs\n",
    "bds = shp.bounds\n",
    "shp.close()\n",
    "extra = 0.01\n",
    "# bounds need to be datum-shifted\n",
    "# wgs84 = pyproj.Proj(\"+init=EPSG:4326\")\n",
    "# osgb36 = pyproj.Proj(\"+init=EPSG:27700\")\n",
    "# ll = pyproj.transform(osgb36, wgs84, bds[0], bds[1])\n",
    "# ur = pyproj.transform(osgb36, wgs84, bds[2], bds[3])\n",
    "ll = (bds[0], bds[1])\n",
    "ur = (bds[2], bds[3])\n",
    "coords = list(chain(ll, ur))\n",
    "w, h = coords[2] - coords[0], coords[3] - coords[1]"
   ]
  },
  {
   "cell_type": "code",
   "execution_count": null,
   "metadata": {
    "collapsed": false
   },
   "outputs": [],
   "source": [
    "m = Basemap(\n",
    "    projection='tmerc',\n",
    "    lon_0 = -2.,\n",
    "    lat_0 = 49.,\n",
    "    ellps = 'WGS84',\n",
    "    llcrnrlon=coords[0] - extra * w,\n",
    "    llcrnrlat=coords[1] - extra + 0.01 * h,\n",
    "    urcrnrlon=coords[2] + extra * w,\n",
    "    urcrnrlat=coords[3] + extra + 0.01 * h,\n",
    "    lat_ts=0,\n",
    "    resolution='i',\n",
    "    suppress_ticks=True)\n",
    "m.readshapefile(\n",
    "    'data/london_wards',\n",
    "    'london',\n",
    "    color='none',\n",
    "    zorder=2)"
   ]
  },
  {
   "cell_type": "code",
   "execution_count": null,
   "metadata": {
    "collapsed": false
   },
   "outputs": [],
   "source": [
    "# set up a map dataframe\n",
    "df_map = pd.DataFrame({\n",
    "    'poly': [Polygon(xy) for xy in m.london],\n",
    "    'ward_name': [w['NAME'] for w in m.london_info],\n",
    "})\n",
    "df_map['area_m'] = df_map['poly'].map(lambda x: x.area)\n",
    "df_map['area_km'] = df_map['area_m'] / 100000\n",
    "df_map['ward_name'] = df_map['ward_name'].str.strip()\n",
    "\n",
    "# Create Point objects in map coordinates from dataframe lon and lat values\n",
    "map_points = pd.Series(\n",
    "    [Point(m(mapped_x, mapped_y)) for mapped_x, mapped_y in zip(df['lon'], df['lat'])])\n",
    "plaque_points = MultiPoint(list(map_points.values))\n",
    "wards_polygon = prep(MultiPolygon(list(df_map['poly'].values)))\n",
    "# calculate points that fall within the London boundary\n",
    "ldn_points = filter(wards_polygon.contains, plaque_points)"
   ]
  },
  {
   "cell_type": "code",
   "execution_count": null,
   "metadata": {
    "collapsed": false
   },
   "outputs": [],
   "source": [
    "# Convenience functions for working with color ramps and bars\n",
    "def colorbar_index(ncolors, cmap, labels=None, **kwargs):\n",
    "    \"\"\"\n",
    "    This is a convenience function to stop you making off-by-one errors\n",
    "    Takes a standard colourmap, and discretizes it,\n",
    "    then draws a colour bar with correctly aligned labels\n",
    "    \"\"\"\n",
    "    cmap = cmap_discretize(cmap, ncolors)\n",
    "    mappable = cm.ScalarMappable(cmap=cmap)\n",
    "    mappable.set_array([])\n",
    "    mappable.set_clim(-0.5, ncolors+0.5)\n",
    "    colorbar = plt.colorbar(mappable, **kwargs)\n",
    "    colorbar.set_ticks(np.linspace(0, ncolors, ncolors))\n",
    "    colorbar.set_ticklabels(range(ncolors))\n",
    "    if labels:\n",
    "        colorbar.set_ticklabels(labels)\n",
    "    return colorbar\n",
    "\n",
    "def cmap_discretize(cmap, N):\n",
    "    \"\"\"\n",
    "    Return a discrete colormap from the continuous colormap cmap.\n",
    "    \n",
    "        cmap: colormap instance, eg. cm.jet. \n",
    "        N: number of colors.\n",
    "    \n",
    "    Example\n",
    "        x = resize(arange(100), (5,100))\n",
    "        djet = cmap_discretize(cm.jet, 5)\n",
    "        imshow(x, cmap=djet)\n",
    "\n",
    "    \"\"\"\n",
    "    if type(cmap) == str:\n",
    "        cmap = get_cmap(cmap)\n",
    "    colors_i = np.concatenate((np.linspace(0, 1., N), (0., 0., 0., 0.)))\n",
    "    colors_rgba = cmap(colors_i)\n",
    "    indices = np.linspace(0, 1., N + 1)\n",
    "    cdict = {}\n",
    "    for ki,key in enumerate(('red','green','blue')):\n",
    "        cdict[key] = [(indices[i], colors_rgba[i - 1, ki], colors_rgba[i, ki]) for i in xrange(N + 1)]\n",
    "    return matplotlib.colors.LinearSegmentedColormap(cmap.name + \"_%d\" % N, cdict, 1024)"
   ]
  },
  {
   "cell_type": "code",
   "execution_count": null,
   "metadata": {
    "collapsed": false
   },
   "outputs": [],
   "source": [
    "# draw ward patches from polygons\n",
    "df_map['patches'] = df_map['poly'].map(lambda x: PolygonPatch(\n",
    "    x, fc='#555555', ec='#787878', lw=.25, alpha=.9\n",
    "    , zorder=4))\n",
    "\n",
    "plt.clf()\n",
    "fig = plt.figure()\n",
    "\n",
    "ax = fig.add_subplot(111, axisbg='w', frame_on=False)\n",
    "\n",
    "# we don't need to pass points to m() because we calculated using map_points and shapefile polygons\n",
    "dev = m.scatter(\n",
    "    [geom.x for geom in ldn_points],\n",
    "    [geom.y for geom in ldn_points],\n",
    "    5, marker='o', lw=.25,\n",
    "    facecolor='#33ccff', edgecolor='w',\n",
    "    alpha=0.9, antialiased=True,\n",
    "    label='Blue Plaque Locations', zorder=3)\n",
    "# plot boroughs by adding the PatchCollection to the axes instance\n",
    "ax.add_collection(PatchCollection(df_map['patches'].values, match_original=True))\n",
    "# copyright and source data info\n",
    "smallprint = ax.text(\n",
    "    1.03, 0,\n",
    "    'Total points: %s\\nContains Ordnance Survey data\\n$\\copyright$ Crown copyright and database right 2013\\nPlaque data from http://openplaques.org' % len(ldn_points),\n",
    "    ha='right', va='bottom',\n",
    "    size=4,\n",
    "    color='#555555',\n",
    "    transform=ax.transAxes,\n",
    "    fontproperties=prop,\n",
    ")\n",
    "\n",
    "# Draw a map scale\n",
    "m.drawmapscale(\n",
    "    coords[0] + 0.08, coords[1] + 0.015,\n",
    "    coords[0], coords[1],\n",
    "    10.,\n",
    "    barstyle='fancy', labelstyle='simple',\n",
    "    fillcolor1='w', fillcolor2='#555555',\n",
    "    fontcolor='#555555',\n",
    "    zorder=5\n",
    ")\n",
    "plt.title(\"Blue Plaque Locations, London\", fontproperties=prop)\n",
    "plt.tight_layout()\n",
    "fig.set_size_inches(8.47, 5.25)\n",
    "plt.savefig('data/london_plaques.png', dpi=300, alpha=True)\n",
    "plt.show()"
   ]
  },
  {
   "cell_type": "code",
   "execution_count": null,
   "metadata": {
    "collapsed": false
   },
   "outputs": [],
   "source": [
    "# create a MultiPoint which we can check for set membership\n",
    "\n",
    "df_map['count'] = df_map['poly'].map(lambda x: int(len(filter(prep(x).contains, ldn_points))))\n",
    "df_map['density_m'] = df_map['count'] / df_map['area_m']\n",
    "df_map['density_km'] = df_map['count'] / df_map['area_km']\n",
    "# it's easier to work with NaN values when classifying\n",
    "df_map.replace(to_replace={'density_m': {0: np.nan}, 'density_km': {0: np.nan}}, inplace=True)"
   ]
  },
  {
   "cell_type": "code",
   "execution_count": null,
   "metadata": {
    "collapsed": false
   },
   "outputs": [],
   "source": [
    "# Calculate quantiles for density\n",
    "### REMOVED TEMPORARILY ###\n",
    "#categorical, bins = pd.qcut(df_map['density_km'], 5, retbins=True)\n",
    "#df_map['quantile_bins'] = categorical.labels"
   ]
  },
  {
   "cell_type": "code",
   "execution_count": null,
   "metadata": {
    "collapsed": false
   },
   "outputs": [],
   "source": [
    "# Calculate Jenks natural breaks for density\n",
    "breaks = nb(\n",
    "    df_map[df_map['density_km'].notnull()].density_km.values,\n",
    "    initial=300,\n",
    "    k=5)\n",
    "# the notnull method lets us match indices when joining\n",
    "jb = pd.DataFrame({'jenks_bins': breaks.yb}, index=df_map[df_map['density_km'].notnull()].index)\n",
    "df_map = df_map.join(jb)\n",
    "df_map.jenks_bins.fillna(-1, inplace=True)"
   ]
  },
  {
   "cell_type": "code",
   "execution_count": null,
   "metadata": {
    "collapsed": false
   },
   "outputs": [],
   "source": [
    "# Create Jenks and quantile labels\n",
    "quantile_labels = [\"<= %0.2f/$km^2$(%s wards)\" % (b, w) for b, w in zip(\n",
    "    bins[1:],\n",
    "    [k for k in pd.value_counts(categorical, sort=False)])]\n",
    "quantile_labels.insert(0, 'No plaques (%s wards)' % len(df_map[df_map['density_km'].isnull()]))\n",
    "jenks_labels = [\"<= %0.1f/km$^2$(%s wards)\" % (b, w) for b, w in zip(\n",
    "    breaks.bins, breaks.counts)]\n",
    "jenks_labels.insert(0, 'No plaques (%s wards)' % len(df_map[df_map['density_km'].isnull()]))"
   ]
  },
  {
   "cell_type": "code",
   "execution_count": null,
   "metadata": {
    "collapsed": false
   },
   "outputs": [],
   "source": [
    "plt.clf()\n",
    "fig = plt.figure()\n",
    "ax = fig.add_subplot(111, axisbg='w', frame_on=False)\n",
    "\n",
    "# use a blue colour ramp - we'll be converting it to a map using cmap()\n",
    "cmap = plt.get_cmap('Blues')\n",
    "# draw wards with grey outlines\n",
    "df_map['patches'] = df_map['poly'].map(lambda x: PolygonPatch(x, ec='#555555', lw=.2, alpha=1., zorder=4))\n",
    "pc = PatchCollection(df_map['patches'], match_original=True)\n",
    "# impose our colour map onto the patch collection\n",
    "norm = Normalize()\n",
    "pc.set_facecolor(cmap(norm(df_map['jenks_bins'].values)))\n",
    "ax.add_collection(pc)\n",
    "\n",
    "# Add a colour bar\n",
    "cb = colorbar_index(ncolors=len(jenks_labels), cmap=cmap, shrink=0.5, labels=jenks_labels)\n",
    "for label in cb.ax.yaxis.get_ticklabels():\n",
    "    label.set_fontproperties(prop)\n",
    "cb.ax.tick_params(labelsize=6)\n",
    "\n",
    "# Show highest densities, in descending order\n",
    "highest = '\\n'.join(value[1] for\n",
    "    _, value in df_map[(df_map['jenks_bins'] == 4)][:10].sort().iterrows())\n",
    "highest = 'Most Dense Wards:\\n\\n' + highest\n",
    "# Subtraction is necessary for precise y coordinate alignment\n",
    "details = cb.ax.text(\n",
    "    -1., 0 - 0.007,\n",
    "    highest,\n",
    "    ha='right', va='bottom',\n",
    "    size=5,\n",
    "    color='#555555',\n",
    "    fontproperties=prop\n",
    ")\n",
    "\n",
    "# Bin method, copyright and source data info\n",
    "smallprint = ax.text(\n",
    "    1.03, 0,\n",
    "    'Classification method: natural breaks\\nContains Ordnance Survey data\\n$\\copyright$ Crown copyright and database right 2013\\nPlaque data from http://openplaques.org',\n",
    "    ha='right', va='bottom',\n",
    "    size=4,\n",
    "    color='#555555',\n",
    "    transform=ax.transAxes,\n",
    "    fontproperties=prop,\n",
    ")\n",
    "\n",
    "# Draw a map scale\n",
    "m.drawmapscale(\n",
    "    coords[0] + 0.08, coords[1] + 0.015,\n",
    "    coords[0], coords[1],\n",
    "    10.,\n",
    "    barstyle='fancy', labelstyle='simple',\n",
    "    fillcolor1='w', fillcolor2='#555555',\n",
    "    fontcolor='#555555',\n",
    "    zorder=5\n",
    ")\n",
    "plt.title(\"Blue Plaque Density By Ward, London\", fontproperties=prop)\n",
    "plt.tight_layout()\n",
    "fig.set_size_inches(8.47, 5.25)\n",
    "plt.savefig('data/london_plaque_density.png', alpha=True, dpi=300, bbox_inches=\"tight\")\n",
    "plt.show()"
   ]
  },
  {
   "cell_type": "code",
   "execution_count": null,
   "metadata": {
    "collapsed": false
   },
   "outputs": [],
   "source": [
    "# draw ward patches from polygons\n",
    "df_map['patches'] = df_map['poly'].map(lambda x: PolygonPatch(\n",
    "    x, fc='#555555', ec='#787878', lw=.25, alpha=.9, zorder=0))\n",
    "\n",
    "plt.clf()\n",
    "fig = plt.figure()\n",
    "ax = fig.add_subplot(111, axisbg='w', frame_on=False)\n",
    "\n",
    "# plot boroughs by adding the PatchCollection to the axes instance\n",
    "ax.add_collection(PatchCollection(df_map['patches'].values, match_original=True))\n",
    "\n",
    "df_london = df[\n",
    "   (df['lon'] >= ll[0]) &\n",
    "   (df['lon'] <= ur[0]) &\n",
    "   (df['lat'] >= ll[1]) &\n",
    "   (df['lat'] <= ur[1])\n",
    "]\n",
    "\n",
    "lon_ldn = df_london.lon.values\n",
    "lat_ldn = df_london.lat.values\n",
    "\n",
    "# the mincnt argument only shows cells with a value >= 1\n",
    "# hexbin wants np arrays, not plain lists\n",
    "hx = m.hexbin(\n",
    "    np.array([geom.x for geom in ldn_points]),\n",
    "    np.array([geom.y for geom in ldn_points]),\n",
    "    gridsize=125,\n",
    "    bins='log',\n",
    "    mincnt=1,\n",
    "    edgecolor='none',\n",
    "    alpha=1.,\n",
    "    lw=0.2,\n",
    "    cmap=plt.get_cmap('Blues'))\n",
    "\n",
    "# copyright and source data info\n",
    "smallprint = ax.text(\n",
    "    1.03, 0,\n",
    "    'Total points: %s\\nContains Ordnance Survey data\\n$\\copyright$ Crown copyright and database right 2013\\nPlaque data from http://openplaques.org' % len(ldn_points),\n",
    "    ha='right', va='bottom',\n",
    "    size=4,\n",
    "    color='#555555',\n",
    "    transform=ax.transAxes,\n",
    "    fontproperties=prop,\n",
    ")\n",
    "\n",
    "# Draw a map scale\n",
    "m.drawmapscale(\n",
    "    coords[0] + 0.08, coords[1] + 0.015,\n",
    "    coords[0], coords[1],\n",
    "    10.,\n",
    "    barstyle='fancy', labelstyle='simple',\n",
    "    fillcolor1='w', fillcolor2='#555555',\n",
    "    fontcolor='#555555',\n",
    "    zorder=5\n",
    ")\n",
    "plt.title(\"Blue Plaque Density, London\", fontproperties=prop)\n",
    "plt.tight_layout()\n",
    "fig.set_size_inches(8.47, 5.25)\n",
    "plt.savefig('data/london_plaques_kde.png', dpi=300, alpha=True)\n",
    "plt.show()"
   ]
  },
  {
   "cell_type": "code",
   "execution_count": null,
   "metadata": {
    "collapsed": false
   },
   "outputs": [],
   "source": []
  }
 ],
 "metadata": {
  "kernelspec": {
   "display_name": "Python 2",
   "language": "python",
   "name": "python2"
  },
  "language_info": {
   "codemirror_mode": {
    "name": "ipython",
    "version": 2
   },
   "file_extension": ".py",
   "mimetype": "text/x-python",
   "name": "python",
   "nbconvert_exporter": "python",
   "pygments_lexer": "ipython2",
   "version": "2.7.9"
  }
 },
 "nbformat": 4,
 "nbformat_minor": 0
}
